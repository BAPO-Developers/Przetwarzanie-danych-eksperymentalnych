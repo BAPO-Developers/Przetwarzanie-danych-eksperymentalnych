{
 "cells": [
  {
   "cell_type": "code",
   "execution_count": 8,
   "id": "4e9f0f19-f5e5-4d3c-977a-988ee234cf20",
   "metadata": {},
   "outputs": [],
   "source": [
    "from GridSearch import MyGridSearch\n",
    "import pandas as pd\n",
    "import numpy as np\n",
    "from sklearn.linear_model import LinearRegression, Ridge, Lasso\n",
    "from sklearn.svm import SVR"
   ]
  },
  {
   "cell_type": "code",
   "execution_count": 9,
   "id": "41d67338-137f-4ea0-ba9c-fd9d576296cf",
   "metadata": {},
   "outputs": [
    {
     "name": "stdout",
     "output_type": "stream",
     "text": [
      "int32\n"
     ]
    },
    {
     "name": "stderr",
     "output_type": "stream",
     "text": [
      "100%|██████████████████████████████████████████████████████████████████████████████| 8400/8400 [02:00<00:00, 69.83it/s]\n"
     ]
    },
    {
     "data": {
      "text/plain": [
       "({'alpha': -0.10000000000008313, 'solver': 'auto', 'random_state': 46},\n",
       " 1.43421234)"
      ]
     },
     "execution_count": 9,
     "metadata": {},
     "output_type": "execute_result"
    }
   ],
   "source": [
    "df = pd.read_excel('data.xlsx')\n",
    "X = df.drop(columns=['AT'])\n",
    "y = df['AT']\n",
    "\n",
    "params = { \"alpha\": list(np.arange(-4, 10, 0.005)), \n",
    "          \"solver\": [\"auto\", \"svd\", \"cholesky\"], \n",
    "         'random_state':[46]} \n",
    "ridge_gs = MyGridSearch(params, Ridge(), X, y)\n",
    "ridge_gs.get_best()"
   ]
  },
  {
   "cell_type": "code",
   "execution_count": 10,
   "id": "8aa15b45-9956-4c6c-af7c-bd010f2dbff5",
   "metadata": {},
   "outputs": [
    {
     "name": "stdout",
     "output_type": "stream",
     "text": [
      "int32\n"
     ]
    },
    {
     "name": "stderr",
     "output_type": "stream",
     "text": [
      "100%|██████████████████████████████████████████████████████████████████████████████| 9984/9984 [02:39<00:00, 62.76it/s]\n"
     ]
    }
   ],
   "source": [
    "params = { \"alpha\" : list(np.arange(0, 4, 0.05)), \n",
    "           \"fit_intercept\": [True, False],\n",
    "           \"max_iter\":list(np.arange(700, 1340, 10)),\n",
    "         'random_state':[46]} \n",
    "lasso_gs = MyGridSearch(params, Lasso(), X, y)"
   ]
  },
  {
   "cell_type": "code",
   "execution_count": 12,
   "id": "42ebb251-b9d3-4ab9-a03d-ec5f7286123e",
   "metadata": {},
   "outputs": [
    {
     "data": {
      "text/plain": [
       "({'alpha': 0.1, 'fit_intercept': True, 'max_iter': 700, 'random_state': 46},\n",
       " 1.51019429)"
      ]
     },
     "execution_count": 12,
     "metadata": {},
     "output_type": "execute_result"
    }
   ],
   "source": [
    "lasso_gs.get_best()"
   ]
  },
  {
   "cell_type": "code",
   "execution_count": 21,
   "id": "2c279726-819f-4675-92dc-63810e4617d2",
   "metadata": {},
   "outputs": [
    {
     "name": "stdout",
     "output_type": "stream",
     "text": [
      "int32\n"
     ]
    },
    {
     "name": "stderr",
     "output_type": "stream",
     "text": [
      "100%|██████████████████████████████████████████████████████████████████████████████████| 25/25 [03:04<00:00,  7.39s/it]\n"
     ]
    }
   ],
   "source": [
    "params = { \"C\" : [0.8, 0.9, 1, 1.1, 1.2, 1.3],\n",
    "           \"epsilon\": [0.08, 0.09, 0.1, 0.11, 0.12, 0.13]}\n",
    "svr_gs = MyGridSearch(params, SVR(), X, y)"
   ]
  },
  {
   "cell_type": "code",
   "execution_count": null,
   "id": "8531e089-5ac9-4aa3-bd1a-bdc691163295",
   "metadata": {},
   "outputs": [],
   "source": []
  }
 ],
 "metadata": {
  "kernelspec": {
   "display_name": "Python 3 (ipykernel)",
   "language": "python",
   "name": "python3"
  },
  "language_info": {
   "codemirror_mode": {
    "name": "ipython",
    "version": 3
   },
   "file_extension": ".py",
   "mimetype": "text/x-python",
   "name": "python",
   "nbconvert_exporter": "python",
   "pygments_lexer": "ipython3",
   "version": "3.7.11"
  }
 },
 "nbformat": 4,
 "nbformat_minor": 5
}
