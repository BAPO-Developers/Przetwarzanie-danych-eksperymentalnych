{
 "cells": [
  {
   "cell_type": "code",
   "execution_count": 1,
   "id": "4e9f0f19-f5e5-4d3c-977a-988ee234cf20",
   "metadata": {
    "tags": []
   },
   "outputs": [],
   "source": [
    "from GridSearch import MyGridSearch\n",
    "import pandas as pd\n",
    "import numpy as np\n",
    "from sklearn.linear_model import LinearRegression, Ridge, Lasso\n",
    "from sklearn.svm import SVR"
   ]
  },
  {
   "cell_type": "markdown",
   "id": "38501341-f15b-4a55-8d41-52d137231263",
   "metadata": {},
   "source": [
    "# Strojenie hiperparametrów\n",
    "\n",
    "## Ridge (regresja grzbietowa)\n",
    "\n",
    "W przypadku regularyzacji L2 dostrojono parametry:\n",
    "\n",
    "`alpha` - siła regularyzacji. Poprawia uwarunkowania problemu i zmniejsza wariancję \n",
    "\n",
    "`solver` - wybór solvera do procedur obliczeniowych. Auto (automatycznie dobierany solver na podstawie typów danych), svd (używa dekompozycje pojedyńczych wartości, bardziej stabilny dla pojedynczych wartości niż cholesky), cholesky (używa standardu scipy.linalg.solve do uzyskania rozwiązania w formie zamkniętej)\n"
   ]
  },
  {
   "cell_type": "code",
   "execution_count": 2,
   "id": "41d67338-137f-4ea0-ba9c-fd9d576296cf",
   "metadata": {},
   "outputs": [
    {
     "name": "stdout",
     "output_type": "stream",
     "text": [
      "int32\n"
     ]
    },
    {
     "name": "stderr",
     "output_type": "stream",
     "text": [
      "100%|██████████████████████████████████████████████████████████████████████████████| 8400/8400 [02:00<00:00, 69.67it/s]\n"
     ]
    },
    {
     "data": {
      "text/plain": [
       "({'alpha': -1.4950000000000534, 'solver': 'auto', 'random_state': 46},\n",
       " 3.62490688)"
      ]
     },
     "execution_count": 2,
     "metadata": {},
     "output_type": "execute_result"
    }
   ],
   "source": [
    "df = pd.read_excel('data.xlsx')\n",
    "X = df.drop(columns=['PE'])\n",
    "y = df['PE']\n",
    "\n",
    "params = { \"alpha\": list(np.arange(-4, 10, 0.005)), \n",
    "          \"solver\": [\"auto\", \"svd\", \"cholesky\"], \n",
    "         'random_state':[46]} \n",
    "ridge_gs = MyGridSearch(params, Ridge(), X, y)\n",
    "ridge_gs.get_best()"
   ]
  },
  {
   "cell_type": "markdown",
   "id": "b9b1d193-3380-49f4-b4a1-a1dad57d38b0",
   "metadata": {
    "tags": []
   },
   "source": [
    "## Lasso\n",
    "\n",
    "W przypadku regularyzacji L1 dostrojona parametry:\n",
    "\n",
    "`alpha` - stała mnożąca wyraz L1. Domyślna wartośc to 1. Wartość 0 jest odpowiednikiem algorytmu regresji liniowej (brak regularyzacji).\n",
    "\n",
    "`fit_intercept` - flaga mówiąca czy obliczyć punkt przecięcia modelu. W przypadku wartości Flase oczekuje się wycentrowanych danych. Domyślnie ustawiona jest flaga True.\n",
    "\n",
    "`max_iter` - maksymalna ilośc iteracji. Domyślnie 1000."
   ]
  },
  {
   "cell_type": "code",
   "execution_count": 3,
   "id": "8aa15b45-9956-4c6c-af7c-bd010f2dbff5",
   "metadata": {},
   "outputs": [
    {
     "name": "stdout",
     "output_type": "stream",
     "text": [
      "int32\n"
     ]
    },
    {
     "name": "stderr",
     "output_type": "stream",
     "text": [
      "100%|████████████████████████████████████████████████████████████████████████████| 15040/15040 [04:12<00:00, 59.47it/s]\n"
     ]
    },
    {
     "data": {
      "text/plain": [
       "({'alpha': 0.01, 'fit_intercept': True, 'max_iter': 400, 'random_state': 46},\n",
       " 3.62935882)"
      ]
     },
     "execution_count": 3,
     "metadata": {},
     "output_type": "execute_result"
    }
   ],
   "source": [
    "params = { \"alpha\" : list(np.arange(0.01, 4, 0.05)), \n",
    "           \"fit_intercept\": [True, False],\n",
    "           \"max_iter\":list(np.arange(400, 1340, 10)),\n",
    "         'random_state':[46]} \n",
    "lasso_gs = MyGridSearch(params, Lasso(), X, y)\n",
    "lasso_gs.get_best()"
   ]
  },
  {
   "cell_type": "markdown",
   "id": "fe990b23-54d6-40db-a998-f3c4c0e488f0",
   "metadata": {},
   "source": [
    "## SVR\n",
    "\n",
    "W przypadku regresyjnego liniowego wektora wsparć dostrojone zostały parametry:\n",
    "\n",
    "`C` - parametr regularyzacji, jest on odwrotnie proporcjonalny do siły regularyzacji. Domyślnie równy 1.\n",
    "\n",
    "`epsilon` - określa nieczułość na funkcję strat. Zależy od skali wartości y, domyślnie równy 0.\n"
   ]
  },
  {
   "cell_type": "code",
   "execution_count": 4,
   "id": "2c279726-819f-4675-92dc-63810e4617d2",
   "metadata": {},
   "outputs": [
    {
     "name": "stdout",
     "output_type": "stream",
     "text": [
      "int32\n"
     ]
    },
    {
     "name": "stderr",
     "output_type": "stream",
     "text": [
      "100%|██████████████████████████████████████████████████████████████████████████████████| 54/54 [06:52<00:00,  7.65s/it]\n"
     ]
    },
    {
     "data": {
      "text/plain": [
       "({'C': 1.7, 'epsilon': 0.13}, 3.15211345)"
      ]
     },
     "execution_count": 4,
     "metadata": {},
     "output_type": "execute_result"
    }
   ],
   "source": [
    "params = { \"C\" : [0.9, 1, 1.1, 1.2, 1.3, 1.4, 1.5, .16, 1.7],\n",
    "           \"epsilon\": [0.08, 0.09, 0.1, 0.11, 0.12, 0.13]}\n",
    "svr_gs = MyGridSearch(params, SVR(), X, y)\n",
    "svr_gs.get_best()"
   ]
  },
  {
   "cell_type": "code",
   "execution_count": null,
   "id": "8531e089-5ac9-4aa3-bd1a-bdc691163295",
   "metadata": {},
   "outputs": [],
   "source": []
  },
  {
   "cell_type": "code",
   "execution_count": null,
   "id": "f0a910b6-6f4b-47f3-a8a0-5b880f32402b",
   "metadata": {},
   "outputs": [],
   "source": []
  }
 ],
 "metadata": {
  "kernelspec": {
   "display_name": "Python 3 (ipykernel)",
   "language": "python",
   "name": "python3"
  },
  "language_info": {
   "codemirror_mode": {
    "name": "ipython",
    "version": 3
   },
   "file_extension": ".py",
   "mimetype": "text/x-python",
   "name": "python",
   "nbconvert_exporter": "python",
   "pygments_lexer": "ipython3",
   "version": "3.7.11"
  }
 },
 "nbformat": 4,
 "nbformat_minor": 5
}
