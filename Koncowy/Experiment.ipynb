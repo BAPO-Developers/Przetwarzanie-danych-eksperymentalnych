{
 "cells": [
  {
   "cell_type": "markdown",
   "id": "85342f5f-3eef-4418-bf84-9d8014aa6f1a",
   "metadata": {},
   "source": [
    "# Eksperyment i porównanie modeli regresji liniowej, regularyzacji Ridge (grzbietowa), Lasso oraz SVM\n",
    "W celu przeprowadzenia poprawnie eksperymentu należy wykonać walidację krzyżową, czyli dokonać kilkukrotnego podziału na zbiór uczący i treningowy. Zbadane zostaną cztery modele w imprementacji `sklearn`:\n",
    "regresja liniowa, regularyzacja Lasso, regularyzacja grzbietowa (Ridge) oraz SVM dla przypadku regresji czyli Support Vector Regression. Początkowo wykonano implementacje wszystkich modeli z parametrami domyślnymi.\n"
   ]
  },
  {
   "cell_type": "code",
   "execution_count": 24,
   "id": "7f675032-3a1d-4bd8-89ba-099bde232c13",
   "metadata": {},
   "outputs": [],
   "source": [
    "import pandas as pd\n",
    "from sklearn.linear_model import LinearRegression, Ridge, Lasso\n",
    "from sklearn.svm import SVR\n",
    "from sklearn.model_selection import KFold\n",
    "import copy\n",
    "import numpy as np\n",
    "from sklearn.preprocessing import MinMaxScaler\n",
    "from sklearn.metrics import mean_absolute_error\n",
    "from Goal import goal_function"
   ]
  },
  {
   "cell_type": "code",
   "execution_count": 21,
   "id": "1f8e5581-5102-4802-9f44-647bceea8b9e",
   "metadata": {},
   "outputs": [
    {
     "data": {
      "text/plain": [
       "array([[1.4343158 , 1.43429004, 4.34835749, 1.30417859],\n",
       "       [1.4178495 , 1.41813992, 4.04847204, 1.29666209],\n",
       "       [1.45047724, 1.45093785, 4.27445007, 1.32204367]])"
      ]
     },
     "execution_count": 21,
     "metadata": {},
     "output_type": "execute_result"
    }
   ],
   "source": [
    "df = pd.read_excel('data.xlsx')\n",
    "np.random.seed(1410)\n",
    "\n",
    "clfs = {\n",
    "    'LinReg   ': LinearRegression(),\n",
    "    'Ridge    ': Ridge(),\n",
    "    'Lasso    ': Lasso(),\n",
    "    'SVR      ': SVR()\n",
    "}\n",
    "\n",
    "# Walidacja krzyżowa\n",
    "times_cross_validation = 3\n",
    "kf = KFold(n_splits=times_cross_validation, shuffle=True, random_state=1410)\n",
    "\n",
    "\n",
    "scaler = MinMaxScaler()\n",
    "\n",
    "\n",
    "X = df.drop(columns=['AT'])\n",
    "y = df['AT']\n",
    "result = np.zeros((times_cross_validation, len(clfs)))\n",
    "for i, (train_index, test_index) in enumerate(kf.split(X)):\n",
    "    X_train, X_test = X.iloc[train_index], X.iloc[test_index]\n",
    "    y_train, y_test = y[train_index], y[test_index]\n",
    "    for j, clf_key in enumerate(clfs):\n",
    "        clf = copy.deepcopy(clfs[clf_key])\n",
    "        X_train = scaler.fit_transform(X_train)\n",
    "        X_test = scaler.transform(X_test)\n",
    "        clf.fit(X_train, y_train)\n",
    "        y_pred = clf.predict(X_test)\n",
    "        result[i, j] = mean_absolute_error(y_pred, y_test)\n",
    "result"
   ]
  },
  {
   "cell_type": "code",
   "execution_count": 22,
   "id": "7d329d01-1e70-4802-8d38-516349fe8990",
   "metadata": {},
   "outputs": [
    {
     "name": "stdout",
     "output_type": "stream",
     "text": [
      "MAE dla LinReg    wynosi 1.434\n",
      "MAE dla Ridge     wynosi 1.434\n",
      "MAE dla Lasso     wynosi 4.224\n",
      "MAE dla SVR       wynosi 1.308\n"
     ]
    }
   ],
   "source": [
    "for i, clf_key in enumerate(clfs):\n",
    "    print(f'MAE dla {clf_key} wynosi {round(result[:,i].mean(),3)}')"
   ]
  },
  {
   "cell_type": "code",
   "execution_count": 25,
   "id": "ddebda87-b254-418f-9eba-77e18586958c",
   "metadata": {},
   "outputs": [
    {
     "data": {
      "text/plain": [
       "1.43421418"
      ]
     },
     "execution_count": 25,
     "metadata": {},
     "output_type": "execute_result"
    }
   ],
   "source": [
    "goal_function(LinearRegression(), X, y, seed=1410, times_cross_validation=3)"
   ]
  },
  {
   "cell_type": "code",
   "execution_count": null,
   "id": "28094c3f-9fe4-407f-b6fb-0de22344f6e0",
   "metadata": {},
   "outputs": [],
   "source": [
    "params = { \"alpha\": list(np.arange(-4, 10, 0.005)), \n",
    "          \"solver\": [\"auto\", \"svd\", \"cholesky\"], \n",
    "         'random_state':[46]} \n",
    "ridge_gs = MyGridSearch(params, Ridge(), X_data, y_data)\n",
    "ridge_gs.get_best()"
   ]
  }
 ],
 "metadata": {
  "kernelspec": {
   "display_name": "Python 3 (ipykernel)",
   "language": "python",
   "name": "python3"
  },
  "language_info": {
   "codemirror_mode": {
    "name": "ipython",
    "version": 3
   },
   "file_extension": ".py",
   "mimetype": "text/x-python",
   "name": "python",
   "nbconvert_exporter": "python",
   "pygments_lexer": "ipython3",
   "version": "3.7.11"
  }
 },
 "nbformat": 4,
 "nbformat_minor": 5
}
